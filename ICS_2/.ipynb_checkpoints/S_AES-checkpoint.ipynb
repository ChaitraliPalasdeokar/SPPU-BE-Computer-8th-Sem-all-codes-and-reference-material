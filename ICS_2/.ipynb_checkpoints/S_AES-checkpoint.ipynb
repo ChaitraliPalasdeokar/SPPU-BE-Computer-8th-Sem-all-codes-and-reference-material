{
 "cells": [
  {
   "cell_type": "code",
   "execution_count": 1,
   "metadata": {},
   "outputs": [],
   "source": [
    "plaintext = \"1101011100101000\"\n",
    "key = \"0100101011110101\"\n",
    "ciphertext = \"\""
   ]
  },
  {
   "cell_type": "code",
   "execution_count": 2,
   "metadata": {},
   "outputs": [],
   "source": [
    "SBox = {}\n",
    "SBox[\"00\"] = {\"00\" : \"1000\", \"01\" : \"0100\", \"10\" : \"1010\", \"11\" : \"1011\"}\n",
    "SBox[\"01\"] = {\"00\" : \"1101\", \"01\" : \"0001\", \"10\" : \"1000\", \"11\" : \"0101\"}\n",
    "SBox[\"10\"] = {\"00\" : \"0110\", \"01\" : \"0010\", \"10\" : \"0000\", \"11\" : \"0011\"}\n",
    "SBox[\"11\"] = {\"00\" : \"1100\", \"01\" : \"1110\", \"10\" : \"1111\", \"11\" : \"0111\"}"
   ]
  },
  {
   "cell_type": "code",
   "execution_count": 3,
   "metadata": {},
   "outputs": [],
   "source": [
    "SBox_inv = {}\n",
    "SBox_inv[\"00\"] = {\"00\" : \"1010\", \"01\" : \"0101\", \"10\" : \"1001\", \"11\" : \"1011\"}\n",
    "SBox_inv[\"01\"] = {\"00\" : \"0001\", \"01\" : \"0111\", \"10\" : \"1000\", \"11\" : \"1111\"}\n",
    "SBox_inv[\"10\"] = {\"00\" : \"0110\", \"01\" : \"0000\", \"10\" : \"0010\", \"11\" : \"0011\"}\n",
    "SBox_inv[\"11\"] = {\"00\" : \"1100\", \"01\" : \"0100\", \"10\" : \"1101\", \"11\" : \"1110\"}"
   ]
  },
  {
   "cell_type": "code",
   "execution_count": 4,
   "metadata": {},
   "outputs": [],
   "source": [
    "mult = {}\n",
    "\n",
    "mult[\"0100\"] = {\"0000\" : \"0000\", \"0001\" : \"0100\", \"0010\" : \"1000\", \"0011\" : \"1100\", \\\n",
    "                \"0100\" : \"0011\", \"0101\" : \"0111\", \"0110\" : \"1011\", \"0111\" : \"1111\", \\\n",
    "                \"1000\" : \"0110\", \"1001\" : \"0010\", \"1010\" : \"1110\", \"1011\" : \"1010\", \\\n",
    "                \"1100\" : \"0101\", \"1101\" : \"0001\", \"1110\" : \"1101\", \"1111\" : \"1001\"}\n",
    "\n",
    "mult[\"0010\"] = {\"0000\" : \"0000\", \"0001\" : \"0010\", \"0010\" : \"0100\", \"0011\" : \"0110\",\\\n",
    "                \"0100\" : \"1000\", \"0101\" : \"1010\", \"0110\" : \"1100\", \"0111\" : \"1110\",\\\n",
    "                \"1000\" : \"0011\", \"1001\" : \"0001\", \"1010\" : \"0111\", \"1011\" : \"0101\",\\\n",
    "                \"1100\" : \"1011\", \"1101\" : \"1001\", \"1110\" : \"1111\", \"1111\" : \"1101\"}\n",
    "\n",
    "mult[\"1001\"] = {\"0000\" : \"0000\", \"0001\" : \"1001\", \"0010\" : \"0001\", \"0011\" : \"1000\",\\\n",
    "                \"0100\" : \"0010\", \"0101\" : \"1011\", \"0110\" : \"0011\", \"0111\" : \"1010\",\\\n",
    "                \"1000\" : \"0100\", \"1001\" : \"1101\", \"1010\" : \"0101\", \"1011\" : \"1100\",\\\n",
    "                \"1100\" : \"0110\", \"1101\" : \"1111\", \"1110\" : \"0111\", \"1111\" : \"1110\"}"
   ]
  },
  {
   "cell_type": "code",
   "execution_count": 5,
   "metadata": {},
   "outputs": [],
   "source": [
    "def XOR(a, b):\n",
    "    y = int(a, 2) ^ int(b, 2)\n",
    "    y = bin(y)[2 : ].zfill(len(a))\n",
    "    return y"
   ]
  },
  {
   "cell_type": "code",
   "execution_count": 6,
   "metadata": {},
   "outputs": [],
   "source": [
    "def rotateNibble(w):\n",
    "    return w[4 : ], w[ : 4]"
   ]
  },
  {
   "cell_type": "code",
   "execution_count": 7,
   "metadata": {},
   "outputs": [],
   "source": [
    "def subNibble(a, b):\n",
    "    return (SBox[a[ : 2]][a[2 : ]] + SBox[b[ : 2]][b[2 : ]])"
   ]
  },
  {
   "cell_type": "code",
   "execution_count": 8,
   "metadata": {},
   "outputs": [],
   "source": [
    "def generateKey(w0, w1, w2, w3, w4, w5):\n",
    "    global key1, key2, key3\n",
    "    key1 = w0 + w1\n",
    "    key2 = w2 + w3\n",
    "    key3 = w4 + w5\n",
    "    print(\"key1 : \", key1)\n",
    "    print(\"key2 : \", key2)\n",
    "    print(\"key3 : \", key3)"
   ]
  },
  {
   "cell_type": "code",
   "execution_count": 9,
   "metadata": {},
   "outputs": [],
   "source": [
    "def encrypt():\n",
    "\n",
    "    temp = XOR(plaintext, key1)\n",
    "    tempout = SBox[temp[ : 2]][temp[2 : 4]] + SBox[temp[4 : 6]][temp[6 : 8]] \\\n",
    "    + SBox[temp[8 : 10]][temp[10 : 12]] + SBox[temp[12 : 14]][temp[14 : ]]\n",
    "    tempswap = tempout[ : 4] + tempout[12 : ] + tempout[8 : 12] + tempout[4 : 8]\n",
    "    \n",
    "    S_00 = XOR(tempswap[ : 4], mult[\"0100\"][tempswap[4 : 8]])\n",
    "    S_01 = XOR(tempswap[8 : 12], mult[\"0100\"][tempswap[12 : ]])\n",
    "    S_10 = XOR(tempswap[4 : 8], mult[\"0100\"][tempswap[ : 4]])\n",
    "    S_11 = XOR(tempswap[12 : ], mult[\"0100\"][tempswap[8 : 12]])\n",
    "    \n",
    "    r1_inv = S_00 + S_10 + S_01 + S_11\n",
    "    temp = XOR(r1_inv, key2)\n",
    "    \n",
    "    tempout = SBox[temp[ : 2]][temp[2 : 4]] + SBox[temp[4 : 6]][temp[6 : 8]] \\\n",
    "    + SBox[temp[8 : 10]][temp[10 : 12]] + SBox[temp[12 : 14]][temp[14 : ]]\n",
    "    tempswap = tempout[ : 4] + tempout[12 : ] + tempout[8 : 12] + tempout[4 : 8]\n",
    "        \n",
    "    ciphertext = XOR(tempswap, key3)\n",
    "    return ciphertext"
   ]
  },
  {
   "cell_type": "code",
   "execution_count": 10,
   "metadata": {},
   "outputs": [],
   "source": [
    "def decrypt():\n",
    "    \n",
    "    temp = XOR(ciphertext, key3)\n",
    "    tempswap = temp[ : 4] + temp[12 : ] + temp[8 : 12] + temp[4 : 8]\n",
    "    tempout = SBox_inv[tempswap[ : 2]][tempswap[2 : 4]] + SBox_inv[tempswap[4 : 6]][tempswap[6 : 8]] \\\n",
    "    + SBox_inv[tempswap[8 : 10]][tempswap[10 : 12]] + SBox_inv[tempswap[12 : 14]][tempswap[14 : ]]\n",
    "    \n",
    "    temp = XOR(tempout, key2)\n",
    "    \n",
    "    S_00 = XOR(mult[\"1001\"][temp[ : 4]], mult[\"0010\"][temp[4 : 8]])\n",
    "    S_01 = XOR(mult[\"1001\"][temp[8 : 12]], mult[\"0010\"][temp[12 : ]])\n",
    "    S_10 = XOR(mult[\"1001\"][temp[4 : 8]], mult[\"0010\"][temp[ : 4]])\n",
    "    S_11 = XOR(mult[\"1001\"][temp[12 : ]], mult[\"0010\"][temp[8 : 12]])\n",
    "    \n",
    "    Sout = S_00 + S_10 + S_01 + S_11\n",
    "    tempswap = Sout[ : 4] + Sout[12 : ] + Sout[8 : 12] + Sout[4 : 8]\n",
    "    tempout = SBox_inv[tempswap[ : 2]][tempswap[2 : 4]] + SBox_inv[tempswap[4 : 6]][tempswap[6 : 8]] \\\n",
    "    + SBox_inv[tempswap[8 : 10]][tempswap[10 : 12]] + SBox_inv[tempswap[12 : 14]][tempswap[14 : ]]\n",
    "    plaintext = XOR(tempout, key1)\n",
    "    return plaintext"
   ]
  },
  {
   "cell_type": "code",
   "execution_count": 11,
   "metadata": {},
   "outputs": [],
   "source": [
    "def keyUtil():\n",
    "    w0 = key[ : 8]\n",
    "    w1 = key[8 : ]\n",
    "    a, b = rotateNibble(w1)\n",
    "    w2 = XOR(XOR(w0, \"10000000\"), subNibble(a, b))\n",
    "    w3 = XOR(w2, w1)\n",
    "    a, b = rotateNibble(w3)\n",
    "    w4 = XOR(XOR(w2, \"00110000\"), subNibble(a, b))\n",
    "    w5 = XOR(w4, w3)\n",
    "    generateKey(w0, w1, w2, w3, w4, w5)"
   ]
  },
  {
   "cell_type": "code",
   "execution_count": 12,
   "metadata": {},
   "outputs": [
    {
     "name": "stdout",
     "output_type": "stream",
     "text": [
      "Original Plaintext :  1101011100101000\n",
      "Original Key :  0100101011110101\n",
      "\n",
      "key1 :  0100101011110101\n",
      "key2 :  1101110100101000\n",
      "key3 :  1000011110101111\n",
      "\n",
      "Ciphertext after encryption :  0010010011101100\n",
      "Plaintext after decryption :  1101011100101000\n"
     ]
    }
   ],
   "source": [
    "print(\"Original Plaintext : \", plaintext)\n",
    "print(\"Original Key : \", key)\n",
    "print()\n",
    "keyUtil()\n",
    "print()\n",
    "ciphertext = encrypt()\n",
    "print(\"Ciphertext after encryption : \", ciphertext)\n",
    "plaintext = decrypt()\n",
    "print(\"Plaintext after decryption : \", plaintext)"
   ]
  }
 ],
 "metadata": {
  "kernelspec": {
   "display_name": "Python 3",
   "language": "python",
   "name": "python3"
  },
  "language_info": {
   "codemirror_mode": {
    "name": "ipython",
    "version": 3
   },
   "file_extension": ".py",
   "mimetype": "text/x-python",
   "name": "python",
   "nbconvert_exporter": "python",
   "pygments_lexer": "ipython3",
   "version": "3.5.4"
  }
 },
 "nbformat": 4,
 "nbformat_minor": 2
}
