{
 "cells": [
  {
   "cell_type": "code",
   "execution_count": 1,
   "metadata": {},
   "outputs": [],
   "source": [
    "import math\n",
    "import operator"
   ]
  },
  {
   "cell_type": "code",
   "execution_count": 2,
   "metadata": {},
   "outputs": [],
   "source": [
    "def euclideanDistance(instance1,instance2,length):\n",
    "    distance = 0.0\n",
    "    for i in range(length):\n",
    "        distance += pow((float(instance1[i]) - float(instance2[i])), 2)\n",
    "    return math.sqrt(distance)"
   ]
  },
  {
   "cell_type": "code",
   "execution_count": 3,
   "metadata": {},
   "outputs": [],
   "source": [
    "def getNeighbours(trainingSet,testInstance,K):\n",
    "    distances = []\n",
    "    length = len(trainingSet[0])-1\n",
    "    for x in range(len(trainingSet)):\n",
    "        dist = euclideanDistance(trainingSet[x],testInstance,length)\n",
    "        distances.append((trainingSet[x],dist))\n",
    "    distances.sort(key=operator.itemgetter(1))\n",
    "    neighbors = []\n",
    "    for x in range(K):\n",
    "        neighbors.append(distances[x][0])\n",
    "    return neighbors"
   ]
  },
  {
   "cell_type": "code",
   "execution_count": 4,
   "metadata": {},
   "outputs": [],
   "source": [
    "def getAnswer(neighbours):\n",
    "    classVotes = {}\n",
    "    for x in range(len(neighbours)):\n",
    "        response = neighbours[x][-1]\n",
    "        if response in classVotes:\n",
    "            classVotes[response] += 1\n",
    "        else:\n",
    "            classVotes[response] = 1\n",
    "    sortedVotes = sorted(classVotes.items(), key=operator.itemgetter(1), reverse=True)\n",
    "    return sortedVotes[0][0]"
   ]
  },
  {
   "cell_type": "code",
   "execution_count": 5,
   "metadata": {},
   "outputs": [
    {
     "name": "stdout",
     "output_type": "stream",
     "text": [
      "Data point :  [6, 6]\n",
      "Nearest Neighbours :  [[4, 6, 'Orange'], [6, 4, 'Orange'], [4, 4, 'Blue']]\n",
      "Prediction :  Orange \n",
      "\n",
      "Data point :  [8, 4]\n",
      "Nearest Neighbours :  [[6, 4, 'Orange'], [8, 2, 'Blue'], [6, 2, 'Blue']]\n",
      "Prediction :  Blue \n",
      "\n"
     ]
    }
   ],
   "source": [
    "if __name__ == \"__main__\":\n",
    "    dataSet = [[2, 4, \"Orange\"], [4, 4, \"Blue\"], [4, 6, \"Orange\"], [4, 2, \"Orange\"], [6, 2, \"Blue\"], [6, 4, \"Orange\"], [8, 2, \"Blue\"]]\n",
    "    testSet = [[6, 6], [8, 4]]\n",
    "\n",
    "    for item in testSet:\n",
    "        print(\"Data point : \", item)\n",
    "        neighbours = getNeighbours(dataSet,item,3)\n",
    "        print(\"Nearest Neighbours : \", neighbours)\n",
    "        answer = getAnswer(neighbours)\n",
    "        print(\"Prediction : \", answer, \"\\n\")"
   ]
  }
 ],
 "metadata": {
  "kernelspec": {
   "display_name": "Python 3",
   "language": "python",
   "name": "python3"
  },
  "language_info": {
   "codemirror_mode": {
    "name": "ipython",
    "version": 3
   },
   "file_extension": ".py",
   "mimetype": "text/x-python",
   "name": "python",
   "nbconvert_exporter": "python",
   "pygments_lexer": "ipython3",
   "version": "3.5.4"
  }
 },
 "nbformat": 4,
 "nbformat_minor": 2
}
