{
 "cells": [
  {
   "cell_type": "code",
   "execution_count": 37,
   "metadata": {},
   "outputs": [],
   "source": [
    "#import required libraries i.e pandas, matplotlib, linear_model and model_selection\n",
    "import pandas as pd\n",
    "import matplotlib.pyplot as plt\n",
    "from sklearn.linear_model import LinearRegression\n",
    "from sklearn.model_selection import train_test_split    "
   ]
  },
  {
   "cell_type": "code",
   "execution_count": 38,
   "metadata": {},
   "outputs": [],
   "source": [
    "#read the dataset using pandas\n",
    "data = pd.read_csv(r'C:\\Users\\Jyoti Ochani\\Downloads\\Machine learning\\ML Regression Assignment\\Datasets\\Assignment1_dataset.csv')"
   ]
  },
  {
   "cell_type": "code",
   "execution_count": 39,
   "metadata": {},
   "outputs": [
    {
     "name": "stdout",
     "output_type": "stream",
     "text": [
      "<class 'pandas.core.frame.DataFrame'>\n",
      "RangeIndex: 8 entries, 0 to 7\n",
      "Data columns (total 2 columns):\n",
      "No of hours spent driving (x)         8 non-null int64\n",
      "Risk Score on a scale of 0-100 (y)    8 non-null int64\n",
      "dtypes: int64(2)\n",
      "memory usage: 208.0 bytes\n"
     ]
    }
   ],
   "source": [
    "#info regarding dataset (total no. of columns, rows and their respective datatypes) \n",
    "data.info()"
   ]
  },
  {
   "cell_type": "code",
   "execution_count": 40,
   "metadata": {},
   "outputs": [
    {
     "data": {
      "text/html": [
       "<div>\n",
       "<style scoped>\n",
       "    .dataframe tbody tr th:only-of-type {\n",
       "        vertical-align: middle;\n",
       "    }\n",
       "\n",
       "    .dataframe tbody tr th {\n",
       "        vertical-align: top;\n",
       "    }\n",
       "\n",
       "    .dataframe thead th {\n",
       "        text-align: right;\n",
       "    }\n",
       "</style>\n",
       "<table border=\"1\" class=\"dataframe\">\n",
       "  <thead>\n",
       "    <tr style=\"text-align: right;\">\n",
       "      <th></th>\n",
       "      <th>No of hours spent driving (x)</th>\n",
       "      <th>Risk Score on a scale of 0-100 (y)</th>\n",
       "    </tr>\n",
       "  </thead>\n",
       "  <tbody>\n",
       "    <tr>\n",
       "      <th>count</th>\n",
       "      <td>8.000000</td>\n",
       "      <td>8.000000</td>\n",
       "    </tr>\n",
       "    <tr>\n",
       "      <th>mean</th>\n",
       "      <td>11.125000</td>\n",
       "      <td>63.625000</td>\n",
       "    </tr>\n",
       "    <tr>\n",
       "      <th>std</th>\n",
       "      <td>4.673252</td>\n",
       "      <td>32.429869</td>\n",
       "    </tr>\n",
       "    <tr>\n",
       "      <th>min</th>\n",
       "      <td>2.000000</td>\n",
       "      <td>10.000000</td>\n",
       "    </tr>\n",
       "    <tr>\n",
       "      <th>25%</th>\n",
       "      <td>9.750000</td>\n",
       "      <td>43.250000</td>\n",
       "    </tr>\n",
       "    <tr>\n",
       "      <th>50%</th>\n",
       "      <td>10.500000</td>\n",
       "      <td>65.000000</td>\n",
       "    </tr>\n",
       "    <tr>\n",
       "      <th>75%</th>\n",
       "      <td>15.250000</td>\n",
       "      <td>93.500000</td>\n",
       "    </tr>\n",
       "    <tr>\n",
       "      <th>max</th>\n",
       "      <td>16.000000</td>\n",
       "      <td>98.000000</td>\n",
       "    </tr>\n",
       "  </tbody>\n",
       "</table>\n",
       "</div>"
      ],
      "text/plain": [
       "       No of hours spent driving (x)  Risk Score on a scale of 0-100 (y)\n",
       "count                       8.000000                            8.000000\n",
       "mean                       11.125000                           63.625000\n",
       "std                         4.673252                           32.429869\n",
       "min                         2.000000                           10.000000\n",
       "25%                         9.750000                           43.250000\n",
       "50%                        10.500000                           65.000000\n",
       "75%                        15.250000                           93.500000\n",
       "max                        16.000000                           98.000000"
      ]
     },
     "execution_count": 40,
     "metadata": {},
     "output_type": "execute_result"
    }
   ],
   "source": [
    "#statistical information about the dataset\n",
    "data.describe()"
   ]
  },
  {
   "cell_type": "code",
   "execution_count": 41,
   "metadata": {},
   "outputs": [
    {
     "data": {
      "text/plain": [
       "(8, 2)"
      ]
     },
     "execution_count": 41,
     "metadata": {},
     "output_type": "execute_result"
    }
   ],
   "source": [
    "#After reading the dataset, the total no of rows and columns read is described using .shape method\n",
    "data.shape"
   ]
  },
  {
   "cell_type": "code",
   "execution_count": 42,
   "metadata": {},
   "outputs": [
    {
     "data": {
      "text/html": [
       "<div>\n",
       "<style scoped>\n",
       "    .dataframe tbody tr th:only-of-type {\n",
       "        vertical-align: middle;\n",
       "    }\n",
       "\n",
       "    .dataframe tbody tr th {\n",
       "        vertical-align: top;\n",
       "    }\n",
       "\n",
       "    .dataframe thead th {\n",
       "        text-align: right;\n",
       "    }\n",
       "</style>\n",
       "<table border=\"1\" class=\"dataframe\">\n",
       "  <thead>\n",
       "    <tr style=\"text-align: right;\">\n",
       "      <th></th>\n",
       "      <th>No of hours spent driving (x)</th>\n",
       "    </tr>\n",
       "  </thead>\n",
       "  <tbody>\n",
       "    <tr>\n",
       "      <th>0</th>\n",
       "      <td>10</td>\n",
       "    </tr>\n",
       "    <tr>\n",
       "      <th>1</th>\n",
       "      <td>9</td>\n",
       "    </tr>\n",
       "    <tr>\n",
       "      <th>2</th>\n",
       "      <td>2</td>\n",
       "    </tr>\n",
       "    <tr>\n",
       "      <th>3</th>\n",
       "      <td>15</td>\n",
       "    </tr>\n",
       "    <tr>\n",
       "      <th>4</th>\n",
       "      <td>10</td>\n",
       "    </tr>\n",
       "    <tr>\n",
       "      <th>5</th>\n",
       "      <td>16</td>\n",
       "    </tr>\n",
       "    <tr>\n",
       "      <th>6</th>\n",
       "      <td>11</td>\n",
       "    </tr>\n",
       "    <tr>\n",
       "      <th>7</th>\n",
       "      <td>16</td>\n",
       "    </tr>\n",
       "  </tbody>\n",
       "</table>\n",
       "</div>"
      ],
      "text/plain": [
       "   No of hours spent driving (x)\n",
       "0                             10\n",
       "1                              9\n",
       "2                              2\n",
       "3                             15\n",
       "4                             10\n",
       "5                             16\n",
       "6                             11\n",
       "7                             16"
      ]
     },
     "execution_count": 42,
     "metadata": {},
     "output_type": "execute_result"
    }
   ],
   "source": [
    "#Selecting the dependent attribute/ predictor\n",
    "x = data[['No of hours spent driving (x)']]\n",
    "x"
   ]
  },
  {
   "cell_type": "code",
   "execution_count": 43,
   "metadata": {},
   "outputs": [
    {
     "data": {
      "text/plain": [
       "0    95\n",
       "1    80\n",
       "2    10\n",
       "3    50\n",
       "4    45\n",
       "5    98\n",
       "6    38\n",
       "7    93\n",
       "Name: Risk Score on a scale of 0-100 (y), dtype: int64"
      ]
     },
     "execution_count": 43,
     "metadata": {},
     "output_type": "execute_result"
    }
   ],
   "source": [
    "#Selecting the Independent attribute \n",
    "y = data['Risk Score on a scale of 0-100 (y)']\n",
    "y"
   ]
  },
  {
   "cell_type": "code",
   "execution_count": 44,
   "metadata": {},
   "outputs": [],
   "source": [
    "# Splitting the dataset into training and testing.\n",
    "# 10% of the dataset is used for testing and 90% of dataset is used for training\n",
    "x_train, x_test, y_train, y_test = train_test_split(x,y,test_size=0.1,random_state = 0)"
   ]
  },
  {
   "cell_type": "code",
   "execution_count": 45,
   "metadata": {},
   "outputs": [],
   "source": [
    "#Creating an instance of class LinearRegression \n",
    "reg = LinearRegression()  "
   ]
  },
  {
   "cell_type": "code",
   "execution_count": 46,
   "metadata": {},
   "outputs": [
    {
     "data": {
      "text/plain": [
       "LinearRegression(copy_X=True, fit_intercept=True, n_jobs=None,\n",
       "         normalize=False)"
      ]
     },
     "execution_count": 46,
     "metadata": {},
     "output_type": "execute_result"
    }
   ],
   "source": [
    "# fits a linear model\n",
    "# Train model using training sets i.e using x_train and y_train\n",
    "reg.fit(x_train,y_train)       "
   ]
  },
  {
   "cell_type": "code",
   "execution_count": 47,
   "metadata": {},
   "outputs": [],
   "source": [
    "# Make predictions using testing data i.e x_test \n",
    "# .predict method is used to predict the values for the testing data. \n",
    "y_pred = reg.predict(x_test)"
   ]
  },
  {
   "cell_type": "code",
   "execution_count": 48,
   "metadata": {},
   "outputs": [
    {
     "name": "stdout",
     "output_type": "stream",
     "text": [
      "[4.56448598]\n",
      "16.42429906542057\n"
     ]
    }
   ],
   "source": [
    "print(reg.coef_)\n",
    "print(reg.intercept_)"
   ]
  },
  {
   "cell_type": "code",
   "execution_count": 49,
   "metadata": {},
   "outputs": [
    {
     "name": "stdout",
     "output_type": "stream",
     "text": [
      "[66.63364486]\n",
      "6    38\n",
      "Name: Risk Score on a scale of 0-100 (y), dtype: int64\n"
     ]
    }
   ],
   "source": [
    "#Printing the predicted and actual values\n",
    "print(y_pred)\n",
    "print(y_test)"
   ]
  },
  {
   "cell_type": "code",
   "execution_count": 50,
   "metadata": {},
   "outputs": [
    {
     "data": {
      "image/png": "[encoded data removed]",
      "text/plain": [
       "<Figure size 432x288 with 1 Axes>"
      ]
     },
     "metadata": {
      "needs_background": "light"
     },
     "output_type": "display_data"
    }
   ],
   "source": [
    "# Plotting the training data-points and best fit line.\n",
    "plt.scatter(x_train,y_train, color='red')\n",
    "plt.plot(x_train, reg.predict(x_train), color='green')\n",
    "plt.title('Linear Regression')\n",
    "plt.xlabel('No of hours spent driving (x)')\n",
    "plt.ylabel('Risk Score on a scale of 0-100 (y)')\n",
    "plt.show()                                          "
   ]
  },
  {
   "cell_type": "code",
   "execution_count": 51,
   "metadata": {},
   "outputs": [
    {
     "name": "stdout",
     "output_type": "stream",
     "text": [
      "Mean Absolute Error =  28.63364485981309\n",
      "Mean Squared Error =  819.8856179579005\n",
      "Root Mean Square Error =  28.63364485981309\n"
     ]
    }
   ],
   "source": [
    "# To check the accuracy of the model.\n",
    "# Metrics used for evaluation of trained model in case is Regression are :\n",
    "# Mean Absolute Error = |actual - predicted|\n",
    "# Mean Squared Error = |actual - predicted|^2\n",
    "# Root Mean Squared Error = sqrt(|actual - predicted^2|)\n",
    "from sklearn import metrics\n",
    "import numpy as np\n",
    "print('Mean Absolute Error = ',metrics.mean_absolute_error(y_test, y_pred))\n",
    "print('Mean Squared Error = ',metrics.mean_squared_error(y_test, y_pred))\n",
    "print('Root Mean Square Error = ',np.sqrt(metrics.mean_squared_error(y_test, y_pred)))"
   ]
  },
  {
   "cell_type": "code",
   "execution_count": 52,
   "metadata": {},
   "outputs": [
    {
     "data": {
      "image/png": "[encoded data removed]",
      "text/plain": [
       "<Figure size 432x288 with 1 Axes>"
      ]
     },
     "metadata": {
      "needs_background": "light"
     },
     "output_type": "display_data"
    }
   ],
   "source": [
    "from sklearn.preprocessing import PolynomialFeatures\n",
    "\n",
    "poly_reg = PolynomialFeatures(degree=2)\n",
    "X_poly = poly_reg.fit_transform(x)\n",
    "pol_reg = LinearRegression()\n",
    "pol_reg.fit(X_poly, y)\n",
    "plt.scatter(x_train, y_train, color='red')\n",
    "plt.plot(x_train, pol_reg.predict(poly_reg.fit_transform(x_train)), color='blue')\n",
    "plt.title('Polynomial Regression')\n",
    "plt.xlabel('No of hours spent driving (x)')\n",
    "plt.ylabel('Risk Score on a scale of 0-100 (y)')\n",
    "plt.show()\n",
    "    "
   ]
  },
  {
   "cell_type": "code",
   "execution_count": 53,
   "metadata": {},
   "outputs": [
    {
     "name": "stdout",
     "output_type": "stream",
     "text": [
      "Mean Absolute Error =  29.34357457356583\n",
      "Mean Squared Error =  861.0453687544192\n",
      "Root Mean Square Error =  29.34357457356583\n"
     ]
    }
   ],
   "source": [
    "print('Mean Absolute Error = ',metrics.mean_absolute_error(y_test, pol_reg.predict(poly_reg.fit_transform(x_test))))\n",
    "print('Mean Squared Error = ',metrics.mean_squared_error(y_test, pol_reg.predict(poly_reg.fit_transform(x_test))))\n",
    "print('Root Mean Square Error = ',np.sqrt(metrics.mean_squared_error(y_test, pol_reg.predict(poly_reg.fit_transform(x_test)))))"
   ]
  },
  {
   "cell_type": "code",
   "execution_count": 54,
   "metadata": {},
   "outputs": [
    {
     "data": {
      "text/plain": [
       "array([ 0.        ,  8.79334132, -0.22023965])"
      ]
     },
     "execution_count": 54,
     "metadata": {},
     "output_type": "execute_result"
    }
   ],
   "source": [
    "pol_reg.coef_"
   ]
  },
  {
   "cell_type": "code",
   "execution_count": 55,
   "metadata": {},
   "outputs": [
    {
     "data": {
      "text/plain": [
       "-2.7341828763510705"
      ]
     },
     "execution_count": 55,
     "metadata": {},
     "output_type": "execute_result"
    }
   ],
   "source": [
    "pol_reg.intercept_"
   ]
  },
  {
   "cell_type": "code",
   "execution_count": 56,
   "metadata": {},
   "outputs": [
    {
     "data": {
      "image/png": "[encoded data removed]",
      "text/plain": [
       "<Figure size 432x288 with 1 Axes>"
      ]
     },
     "metadata": {
      "needs_background": "light"
     },
     "output_type": "display_data"
    }
   ],
   "source": [
    "from sklearn.preprocessing import PolynomialFeatures\n",
    "\n",
    "poly_reg = PolynomialFeatures(degree=3)\n",
    "X_poly = poly_reg.fit_transform(x)\n",
    "pol_reg = LinearRegression()\n",
    "pol_reg.fit(X_poly, y)\n",
    "plt.scatter(x_train, y_train, color='red')\n",
    "plt.plot(x_train, pol_reg.predict(poly_reg.fit_transform(x_train)), color='blue')\n",
    "plt.title('Polynomial Regression')\n",
    "plt.xlabel('No of hours spent driving (x)')\n",
    "plt.ylabel('Risk Score on a scale of 0-100 (y)')\n",
    "plt.show()"
   ]
  },
  {
   "cell_type": "code",
   "execution_count": 57,
   "metadata": {},
   "outputs": [
    {
     "name": "stdout",
     "output_type": "stream",
     "text": [
      "Mean Absolute Error =  4.981300183029134\n",
      "Mean Squared Error =  24.813351513446086\n",
      "Root Mean Square Error =  4.981300183029134\n"
     ]
    }
   ],
   "source": [
    "print('Mean Absolute Error = ',metrics.mean_absolute_error(y_test, pol_reg.predict(poly_reg.fit_transform(x_test))))\n",
    "print('Mean Squared Error = ',metrics.mean_squared_error(y_test, pol_reg.predict(poly_reg.fit_transform(x_test))))\n",
    "print('Root Mean Square Error = ',np.sqrt(metrics.mean_squared_error(y_test, pol_reg.predict(poly_reg.fit_transform(x_test)))))"
   ]
  },
  {
   "cell_type": "code",
   "execution_count": 58,
   "metadata": {},
   "outputs": [
    {
     "data": {
      "text/plain": [
       "array([  0.        , 133.58800982, -16.68528557,   0.59183609])"
      ]
     },
     "execution_count": 58,
     "metadata": {},
     "output_type": "execute_result"
    }
   ],
   "source": [
    "pol_reg.coef_"
   ]
  },
  {
   "cell_type": "code",
   "execution_count": 59,
   "metadata": {},
   "outputs": [
    {
     "data": {
      "text/plain": [
       "-195.30108524452976"
      ]
     },
     "execution_count": 59,
     "metadata": {},
     "output_type": "execute_result"
    }
   ],
   "source": [
    "pol_reg.intercept_"
   ]
  },
  {
   "cell_type": "code",
   "execution_count": 60,
   "metadata": {},
   "outputs": [
    {
     "data": {
      "image/png": "[encoded data removed]",
      "text/plain": [
       "<Figure size 432x288 with 1 Axes>"
      ]
     },
     "metadata": {
      "needs_background": "light"
     },
     "output_type": "display_data"
    }
   ],
   "source": [
    "from sklearn.preprocessing import PolynomialFeatures\n",
    "\n",
    "poly_reg = PolynomialFeatures(degree=4)\n",
    "X_poly = poly_reg.fit_transform(x)\n",
    "pol_reg = LinearRegression()\n",
    "pol_reg.fit(X_poly, y)\n",
    "plt.scatter(x_train, y_train, color='red')\n",
    "plt.plot(x_train, pol_reg.predict(poly_reg.fit_transform(x_train)), color='blue')\n",
    "plt.title('Polynomial Regression')\n",
    "plt.xlabel('No of hours spent driving (x)')\n",
    "plt.ylabel('Risk Score on a scale of 0-100 (y)')\n",
    "plt.show()"
   ]
  },
  {
   "cell_type": "code",
   "execution_count": 61,
   "metadata": {},
   "outputs": [
    {
     "name": "stdout",
     "output_type": "stream",
     "text": [
      "Mean Absolute Error =  6.99217565266747\n",
      "Mean Squared Error =  48.89052035775576\n",
      "Root Mean Square Error =  6.99217565266747\n"
     ]
    }
   ],
   "source": [
    "print('Mean Absolute Error = ',metrics.mean_absolute_error(y_test, pol_reg.predict(poly_reg.fit_transform(x_test))))\n",
    "print('Mean Squared Error = ',metrics.mean_squared_error(y_test, pol_reg.predict(poly_reg.fit_transform(x_test))))\n",
    "print('Root Mean Square Error = ',np.sqrt(metrics.mean_squared_error(y_test, pol_reg.predict(poly_reg.fit_transform(x_test)))))"
   ]
  },
  {
   "cell_type": "code",
   "execution_count": 62,
   "metadata": {},
   "outputs": [
    {
     "data": {
      "text/plain": [
       "array([ 0.00000000e+00,  6.71032470e+01, -3.95133050e+00, -3.37040521e-01,\n",
       "        2.32000460e-02])"
      ]
     },
     "execution_count": 62,
     "metadata": {},
     "output_type": "execute_result"
    }
   ],
   "source": [
    "pol_reg.coef_"
   ]
  },
  {
   "cell_type": "code",
   "execution_count": 63,
   "metadata": {},
   "outputs": [
    {
     "data": {
      "text/plain": [
       "-106.1034904057251"
      ]
     },
     "execution_count": 63,
     "metadata": {},
     "output_type": "execute_result"
    }
   ],
   "source": [
    "pol_reg.intercept_"
   ]
  },
  {
   "cell_type": "code",
   "execution_count": null,
   "metadata": {},
   "outputs": [],
   "source": []
  }
 ],
 "metadata": {
  "kernelspec": {
   "display_name": "Python 3",
   "language": "python",
   "name": "python3"
  },
  "language_info": {
   "codemirror_mode": {
    "name": "ipython",
    "version": 3
   },
   "file_extension": ".py",
   "mimetype": "text/x-python",
   "name": "python",
   "nbconvert_exporter": "python",
   "pygments_lexer": "ipython3",
   "version": "3.7.3"
  }
 },
 "nbformat": 4,
 "nbformat_minor": 2
}
