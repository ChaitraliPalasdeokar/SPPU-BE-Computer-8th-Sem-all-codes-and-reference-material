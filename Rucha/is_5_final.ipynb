{
 "cells": [
  {
   "cell_type": "code",
   "execution_count": 5,
   "metadata": {},
   "outputs": [
    {
     "name": "stdout",
     "output_type": "stream",
     "text": [
      "Enter n which is limit for curve\n",
      "23\n",
      "Enter a for alice\n",
      "67\n",
      "Enter b for bob\n",
      "45\n",
      "Enter Generator point x and y on curve\n",
      "3\n",
      "4\n"
     ]
    }
   ],
   "source": [
    "import numpy as np\n",
    "print(\"Enter n which is limit for curve\")\n",
    "n=int(input())\n",
    "print(\"Enter a for alice\")\n",
    "a=int(input())\n",
    "print(\"Enter b for bob\")\n",
    "b=(int(input()))\n",
    "print(\"Enter Generator point x and y on curve\")\n",
    "G=np.array([int(input()),int(input())])"
   ]
  },
  {
   "cell_type": "code",
   "execution_count": 6,
   "metadata": {},
   "outputs": [
    {
     "name": "stdout",
     "output_type": "stream",
     "text": [
      "The value of A is  [201 268]\n"
     ]
    }
   ],
   "source": [
    "A=np.array([])\n",
    "A=a*G\n",
    "print(\"The value of A is \",A)"
   ]
  },
  {
   "cell_type": "code",
   "execution_count": 7,
   "metadata": {},
   "outputs": [
    {
     "name": "stdout",
     "output_type": "stream",
     "text": [
      "The value of B is  [135 180]\n"
     ]
    }
   ],
   "source": [
    "B=np.array([])\n",
    "B=b*G\n",
    "print(\"The value of B is \",B)\n"
   ]
  },
  {
   "cell_type": "code",
   "execution_count": 8,
   "metadata": {},
   "outputs": [
    {
     "name": "stdout",
     "output_type": "stream",
     "text": [
      "The shared key k1 is  [ 9045 12060]\n"
     ]
    }
   ],
   "source": [
    "k1=np.array([])\n",
    "k1=B*a\n",
    "print(\"The shared key k1 is \",k1)"
   ]
  },
  {
   "cell_type": "code",
   "execution_count": 9,
   "metadata": {},
   "outputs": [
    {
     "name": "stdout",
     "output_type": "stream",
     "text": [
      "The shared key k2 is  [ 9045 12060]\n"
     ]
    }
   ],
   "source": [
    "k2=np.array([])\n",
    "k2=A*b\n",
    "print(\"The shared key k2 is \",k2)"
   ]
  },
  {
   "cell_type": "code",
   "execution_count": 11,
   "metadata": {},
   "outputs": [
    {
     "name": "stdout",
     "output_type": "stream",
     "text": [
      "Enter message to be sent in x and y format\n",
      "34\n",
      "89\n"
     ]
    }
   ],
   "source": [
    "print(\"Enter message to be sent in x and y format\")\n",
    "m=np.array([int(input()),int(input())])"
   ]
  },
  {
   "cell_type": "code",
   "execution_count": 12,
   "metadata": {
    "collapsed": true
   },
   "outputs": [],
   "source": [
    "k=k1=k2\n"
   ]
  },
  {
   "cell_type": "code",
   "execution_count": 13,
   "metadata": {},
   "outputs": [
    {
     "data": {
      "text/plain": [
       "array([27135, 48240])"
      ]
     },
     "execution_count": 13,
     "metadata": {},
     "output_type": "execute_result"
    }
   ],
   "source": [
    "c1=np.array([])\n",
    "c1=np.multiply(k,G)\n",
    "c1"
   ]
  },
  {
   "cell_type": "code",
   "execution_count": 17,
   "metadata": {},
   "outputs": [
    {
     "data": {
      "text/plain": [
       "array([1221075, 2170800])"
      ]
     },
     "execution_count": 17,
     "metadata": {},
     "output_type": "execute_result"
    }
   ],
   "source": [
    "c2=m+np.multiply(k,B)\n",
    "d1=c1*b\n",
    "d1"
   ]
  },
  {
   "cell_type": "code",
   "execution_count": 15,
   "metadata": {},
   "outputs": [
    {
     "name": "stdout",
     "output_type": "stream",
     "text": [
      "The original message is  [34 89]\n"
     ]
    }
   ],
   "source": [
    "decrypt=c2-d1\n",
    "print(\"The original message is \",decrypt)"
   ]
  },
  {
   "cell_type": "code",
   "execution_count": null,
   "metadata": {
    "collapsed": true
   },
   "outputs": [],
   "source": []
  },
  {
   "cell_type": "code",
   "execution_count": null,
   "metadata": {
    "collapsed": true
   },
   "outputs": [],
   "source": []
  },
  {
   "cell_type": "code",
   "execution_count": null,
   "metadata": {
    "collapsed": true
   },
   "outputs": [],
   "source": [
    "e"
   ]
  }
 ],
 "metadata": {
  "kernelspec": {
   "display_name": "Python 3",
   "language": "python",
   "name": "python3"
  },
  "language_info": {
   "codemirror_mode": {
    "name": "ipython",
    "version": 3
   },
   "file_extension": ".py",
   "mimetype": "text/x-python",
   "name": "python",
   "nbconvert_exporter": "python",
   "pygments_lexer": "ipython3",
   "version": "3.6.3"
  }
 },
 "nbformat": 4,
 "nbformat_minor": 2
}
