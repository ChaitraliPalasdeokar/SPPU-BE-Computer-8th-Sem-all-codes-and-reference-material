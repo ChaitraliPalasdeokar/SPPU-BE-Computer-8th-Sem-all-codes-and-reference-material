{
 "cells": [
  {
   "cell_type": "code",
   "execution_count": 1,
   "metadata": {
    "collapsed": true
   },
   "outputs": [],
   "source": [
    "import pandas as pd\n",
    "import numpy as np\n",
    "import math\n",
    "x=np.array([[2,4],[4,2],[4,4],[6,2],[6,4],[4,6]])\n",
    "y=np.array([1,1,0,0,1,1])\n"
   ]
  },
  {
   "cell_type": "code",
   "execution_count": 2,
   "metadata": {},
   "outputs": [],
   "source": [
    "def EuclideanDistance(x1,y1,x2,y2):\n",
    "    return math.sqrt((x1-x2)**2+(y1-y2)**2)\n"
   ]
  },
  {
   "cell_type": "code",
   "execution_count": 7,
   "metadata": {},
   "outputs": [],
   "source": [
    "def chooseK():\n",
    "    k=round(math.sqrt(x.shape[0]))\n",
    "    if(k%2==0):\n",
    "        k=k+1\n",
    "    return k"
   ]
  },
  {
   "cell_type": "code",
   "execution_count": 17,
   "metadata": {},
   "outputs": [
    {
     "name": "stdout",
     "output_type": "stream",
     "text": [
      "6\n",
      "6\n"
     ]
    }
   ],
   "source": []
  },
  {
   "cell_type": "code",
   "execution_count": 22,
   "metadata": {},
   "outputs": [],
   "source": [
    "def testData(xtest,ytest):\n",
    "    dist=[]\n",
    "    index=[]\n",
    "    for i in range(x.shape[0]):\n",
    "        dist.append(EuclideanDistance(xtest,ytest,x[i][0],x[i][1]))\n",
    "    mergedList=zip(dist,y)\n",
    "    mergedList=list(mergedList)\n",
    "    mergedList.sort()\n",
    "    #dist= list(zip(*test_list)) \n",
    "    #dist.sort()\n",
    "    return mergedList"
   ]
  },
  {
   "cell_type": "code",
   "execution_count": 23,
   "metadata": {},
   "outputs": [],
   "source": [
    "def assignClass():\n",
    "    k=chooseK()\n",
    "    xtest=int(input())\n",
    "    ytest=int(input())\n",
    "    print(\"K\",k)\n",
    "    max=0\n",
    "    cnt1=0\n",
    "    cnt0=0\n",
    "    classes=-1\n",
    "    mergedList=testData(xtest,ytest)\n",
    "    for i in range(k):\n",
    "        \n",
    "        #classes.append(y[i])\n",
    "        if(mergedList[i][1]==1):\n",
    "            cnt1=cnt1+1\n",
    "        if(mergedList[i][1]==0):\n",
    "            cnt0=cnt0+1\n",
    "        if(cnt0>cnt1):\n",
    "            max=cnt0\n",
    "            classes=0\n",
    "        else:\n",
    "            max=cnt1\n",
    "            classes=1\n",
    "    return classes"
   ]
  },
  {
   "cell_type": "code",
   "execution_count": 24,
   "metadata": {},
   "outputs": [
    {
     "name": "stdout",
     "output_type": "stream",
     "text": [
      "6\n",
      "6\n",
      "K 3\n",
      "The input point ( 6 , 6 ) belongs to class  1\n"
     ]
    }
   ],
   "source": [
    "classes=assignClass()\n",
    "classes\n",
    "print(\"The input point (\",xtest,\",\",ytest,\") belongs to class \",classes)"
   ]
  },
  {
   "cell_type": "code",
   "execution_count": null,
   "metadata": {
    "collapsed": true
   },
   "outputs": [],
   "source": []
  }
 ],
 "metadata": {
  "kernelspec": {
   "display_name": "Python 3",
   "language": "python",
   "name": "python3"
  },
  "language_info": {
   "codemirror_mode": {
    "name": "ipython",
    "version": 3
   },
   "file_extension": ".py",
   "mimetype": "text/x-python",
   "name": "python",
   "nbconvert_exporter": "python",
   "pygments_lexer": "ipython3",
   "version": "3.6.3"
  }
 },
 "nbformat": 4,
 "nbformat_minor": 2
}
