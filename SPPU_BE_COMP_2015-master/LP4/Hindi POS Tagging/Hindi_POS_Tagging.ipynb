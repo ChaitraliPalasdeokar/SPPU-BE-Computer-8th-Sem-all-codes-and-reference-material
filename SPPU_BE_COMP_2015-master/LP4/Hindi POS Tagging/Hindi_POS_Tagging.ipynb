{
 "cells": [
  {
   "cell_type": "code",
   "execution_count": 1,
   "metadata": {},
   "outputs": [],
   "source": [
    "from nltk.tag import tnt\n",
    "from nltk.corpus import indian\n",
    "import nltk\n",
    "import pandas as pd\n",
    "import numpy as np"
   ]
  },
  {
   "cell_type": "code",
   "execution_count": 2,
   "metadata": {},
   "outputs": [],
   "source": [
    "\n",
    "text = \"इराक के विदेश मंत्री ने अमरीका के उस प्रस्ताव का मजाक उड़ाया है , जिसमें अमरीका ने संयुक्त राष्ट्र के प्रतिबंधों को इराकी नागरिकों के लिए कम हानिकारक बनाने के लिए कहा है ।\" #\"मेरा नाम वैभव है\""
   ]
  },
  {
   "cell_type": "code",
   "execution_count": 3,
   "metadata": {},
   "outputs": [],
   "source": [
    "def hindi_model():\n",
    "    train_data = indian.tagged_sents('hindi.pos')\n",
    "    tnt_pos_tagger = tnt.TnT()\n",
    "    tnt_pos_tagger.train(train_data)\n",
    "    return tnt_pos_tagger"
   ]
  },
  {
   "cell_type": "code",
   "execution_count": 4,
   "metadata": {},
   "outputs": [
    {
     "data": {
      "text/plain": [
       "['इराक',\n",
       " 'के',\n",
       " 'विदेश',\n",
       " 'मंत्री',\n",
       " 'ने',\n",
       " 'अमरीका',\n",
       " 'के',\n",
       " 'उस',\n",
       " 'प्रस्ताव',\n",
       " 'का',\n",
       " 'मजाक',\n",
       " 'उड़ाया',\n",
       " 'है',\n",
       " ',',\n",
       " 'जिसमें',\n",
       " 'अमरीका',\n",
       " 'ने',\n",
       " 'संयुक्त',\n",
       " 'राष्ट्र',\n",
       " 'के',\n",
       " 'प्रतिबंधों',\n",
       " 'को',\n",
       " 'इराकी',\n",
       " 'नागरिकों',\n",
       " 'के',\n",
       " 'लिए',\n",
       " 'कम',\n",
       " 'हानिकारक',\n",
       " 'बनाने',\n",
       " 'के',\n",
       " 'लिए',\n",
       " 'कहा',\n",
       " 'है',\n",
       " '।']"
      ]
     },
     "execution_count": 4,
     "metadata": {},
     "output_type": "execute_result"
    }
   ],
   "source": [
    "nltk.word_tokenize(text)"
   ]
  },
  {
   "cell_type": "code",
   "execution_count": 5,
   "metadata": {},
   "outputs": [
    {
     "name": "stdout",
     "output_type": "stream",
     "text": [
      "इराक  ==>  NNP  \n",
      "के  ==>  PREP  \n",
      "विदेश  ==>  NNC  \n",
      "मंत्री  ==>  NN  \n",
      "ने  ==>  PREP  \n",
      "अमरीका  ==>  NNP  \n",
      "के  ==>  PREP  \n",
      "उस  ==>  PRP  \n",
      "प्रस्ताव  ==>  NN  \n",
      "का  ==>  PREP  \n",
      "मजाक  ==>  NVB  \n",
      "उड़ाया  ==>  VFM  \n",
      "है  ==>  VAUX  \n",
      ",  ==>  PUNC  \n",
      "जिसमें  ==>  PRP  \n",
      "अमरीका  ==>  NNP  \n",
      "ने  ==>  PREP  \n",
      "संयुक्त  ==>  NNC  \n",
      "राष्ट्र  ==>  NN  \n",
      "के  ==>  PREP  \n",
      "प्रतिबंधों  ==>  NN  \n",
      "को  ==>  PREP  \n",
      "इराकी  ==>  JJ  \n",
      "नागरिकों  ==>  NN  \n",
      "के  ==>  PREP  \n",
      "लिए  ==>  PREP  \n",
      "कम  ==>  INTF  \n",
      "हानिकारक  ==>  JJ  \n",
      "बनाने  ==>  VNN  \n",
      "के  ==>  PREP  \n",
      "लिए  ==>  PREP  \n",
      "कहा  ==>  VFM  \n",
      "है  ==>  VAUX  \n",
      "।  ==>  PUNC  \n"
     ]
    }
   ],
   "source": [
    "model = hindi_model()\n",
    "new_tagged = (model.tag(nltk.word_tokenize(text)))\n",
    "#print(new_tagged)\n",
    "array=np.array(new_tagged)\n",
    "for i in array:\n",
    "    print(i[0],\" ==> \", i[1],\" \")"
   ]
  },
  {
   "cell_type": "code",
   "execution_count": 6,
   "metadata": {},
   "outputs": [],
   "source": [
    "with open(\"output.txt\",\"a\") as output_file:\n",
    "    output_file.write(\"\\n[INPUT]\\n\")\n",
    "    output_file.write(text)\n",
    "    output_file.write(\"\\n[OUTPUT]\\n\")\n",
    "    output_file.write(str(new_tagged))"
   ]
  },
  {
   "cell_type": "code",
   "execution_count": 7,
   "metadata": {},
   "outputs": [],
   "source": [
    "engtokens=nltk.word_tokenize(\"Can you please buy me an icecream\")"
   ]
  },
  {
   "cell_type": "code",
   "execution_count": 8,
   "metadata": {},
   "outputs": [
    {
     "name": "stdout",
     "output_type": "stream",
     "text": [
      "Can  ==>  MD  \n",
      "you  ==>  PRP  \n",
      "please  ==>  VB  \n",
      "buy  ==>  VB  \n",
      "me  ==>  PRP  \n",
      "an  ==>  DT  \n",
      "icecream  ==>  NN  \n"
     ]
    }
   ],
   "source": [
    "\n",
    "array1=np.array(nltk.pos_tag(engtokens))\n",
    "for i in array1:\n",
    "    print(i[0],\" ==> \", i[1],\" \")"
   ]
  },
  {
   "cell_type": "code",
   "execution_count": 11,
   "metadata": {},
   "outputs": [
    {
     "name": "stdout",
     "output_type": "stream",
     "text": [
      "\r\n",
      "[INPUT]\r\n",
      "इराक के विदेश मंत्री ने अमरीका के उस प्रस्ताव का मजाक उड़ाया है , जिसमें अमरीका ने संयुक्त राष्ट्र के प्रतिबंधों को इराकी नागरिकों के लिए कम हानिकारक बनाने के लिए कहा है ।\r\n",
      "[OUTPUT]\r\n",
      "[('इराक', 'NNP'), ('के', 'PREP'), ('विदेश', 'NNC'), ('मंत्री', 'NN'), ('ने', 'PREP'), ('अमरीका', 'NNP'), ('के', 'PREP'), ('उस', 'PRP'), ('प्रस्ताव', 'NN'), ('का', 'PREP'), ('मजाक', 'NVB'), ('उड़ाया', 'VFM'), ('है', 'VAUX'), (',', 'PUNC'), ('जिसमें', 'PRP'), ('अमरीका', 'NNP'), ('ने', 'PREP'), ('संयुक्त', 'NNC'), ('राष्ट्र', 'NN'), ('के', 'PREP'), ('प्रतिबंधों', 'NN'), ('को', 'PREP'), ('इराकी', 'JJ'), ('नागरिकों', 'NN'), ('के', 'PREP'), ('लिए', 'PREP'), ('कम', 'INTF'), ('हानिकारक', 'JJ'), ('बनाने', 'VNN'), ('के', 'PREP'), ('लिए', 'PREP'), ('कहा', 'VFM'), ('है', 'VAUX'), ('।', 'PUNC')]"
     ]
    }
   ],
   "source": []
  },
  {
   "cell_type": "code",
   "execution_count": null,
   "metadata": {},
   "outputs": [],
   "source": []
  }
 ],
 "metadata": {
  "kernelspec": {
   "display_name": "Python 3",
   "language": "python",
   "name": "python3"
  },
  "language_info": {
   "codemirror_mode": {
    "name": "ipython",
    "version": 3
   },
   "file_extension": ".py",
   "mimetype": "text/x-python",
   "name": "python",
   "nbconvert_exporter": "python",
   "pygments_lexer": "ipython3",
   "version": "3.7.0"
  }
 },
 "nbformat": 4,
 "nbformat_minor": 2
}
