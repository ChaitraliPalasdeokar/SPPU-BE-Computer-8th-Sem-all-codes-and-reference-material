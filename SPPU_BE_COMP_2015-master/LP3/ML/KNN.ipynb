{
 "cells": [
  {
   "cell_type": "markdown",
   "metadata": {},
   "source": [
    "# KNN Classification"
   ]
  },
  {
   "cell_type": "code",
   "execution_count": 1,
   "metadata": {},
   "outputs": [],
   "source": [
    "import numpy as np\n",
    "import pandas as pd\n",
    "import math"
   ]
  },
  {
   "cell_type": "code",
   "execution_count": 2,
   "metadata": {},
   "outputs": [],
   "source": [
    "x=np.array([[2,4],[4,2],[4,4],[4,6],[6,2],[6,4]])\n",
    "y=np.array([0,0,1,0,1,0])  #  0=negative 1=positive class"
   ]
  },
  {
   "cell_type": "code",
   "execution_count": 17,
   "metadata": {},
   "outputs": [],
   "source": [
    "def eucledian_distance(x1,y1,x2,y2):\n",
    "    return math.sqrt((x1-x2)**2+(y1-y2)**2)"
   ]
  },
  {
   "cell_type": "code",
   "execution_count": 23,
   "metadata": {},
   "outputs": [],
   "source": [
    "def chooseK(arr):\n",
    "    print(\"Size of array :\",arr.shape[0])\n",
    "    k=round(math.sqrt(arr.shape[0]))\n",
    "    if(k%2==0):\n",
    "        k=k+1;\n",
    "    #k should be odd so that classfication can be done properly(No chance of 50%-50% classification)\n",
    "    print(\"Choosen value of K : \",k)\n",
    "    return k;"
   ]
  },
  {
   "cell_type": "code",
   "execution_count": 24,
   "metadata": {},
   "outputs": [
    {
     "name": "stdout",
     "output_type": "stream",
     "text": [
      "Size of array : 6\n",
      "Choosen value of K :  3\n"
     ]
    },
    {
     "data": {
      "text/plain": [
       "3"
      ]
     },
     "execution_count": 24,
     "metadata": {},
     "output_type": "execute_result"
    }
   ],
   "source": [
    "chooseK(x)"
   ]
  },
  {
   "cell_type": "code",
   "execution_count": 25,
   "metadata": {},
   "outputs": [],
   "source": [
    "def classifyPoint(x,y,point,k):\n",
    "    inputSize=x.shape[0];\n",
    "    \n",
    "    distance=[]; #for string eucledian distance\n",
    "    for i in range(inputSize):\n",
    "        distance.append(eucledian_distance(point[0],point[1],x[i][0],x[i][1]));\n",
    "        \n",
    "    mergedList=list(zip(distance,y));\n",
    "    mergedList.sort(); #sort according to increasing distance\n",
    "    \n",
    "    freq0=0; #Freq of group 0 (negative)\n",
    "    freq1=0; #Freq of group 1 (positive)\n",
    "    \n",
    "    for i in range(k): #Iterate for k neighbours\n",
    "        if(mergedList[i][1]==0):\n",
    "            freq0=freq0+1;\n",
    "        elif (mergedList[i][1]==1):\n",
    "            freq1=freq1+1;\n",
    "    \n",
    "    if(freq0>freq1):\n",
    "        return 0;\n",
    "    else:\n",
    "        return 1; "
   ]
  },
  {
   "cell_type": "code",
   "execution_count": 31,
   "metadata": {},
   "outputs": [],
   "source": [
    "def main():\n",
    "    \n",
    "    print(\"Input X coordinate\");\n",
    "    x_co=int(input())\n",
    "    print(\"Enter Y coordinate \")\n",
    "    y_co=int(input())\n",
    "\n",
    "    pointt=(x_co,y_co)\n",
    "    print(pointt)\n",
    "    k=chooseK(x);\n",
    "    label=\"--\"\n",
    "    if(classifyPoint(x=x,y=y,point=pointt,k=k)==0):\n",
    "        label=\"Negative\";\n",
    "    else:\n",
    "        label:\"Positive\";\n",
    "    print(\"Point {} belongs to {} class\".format(pointt,label))\n",
    "    print (classifyPoint(x=x,y=y,point=pointt,k=k))\n",
    "    #classifyPoint(x=x,y=y,point=pointt,k=k)"
   ]
  },
  {
   "cell_type": "code",
   "execution_count": 32,
   "metadata": {},
   "outputs": [
    {
     "name": "stdout",
     "output_type": "stream",
     "text": [
      "Input X coordinate\n",
      "6\n",
      "Enter Y coordinate \n",
      "6\n",
      "(6, 6)\n",
      "Size of array : 6\n",
      "Choosen value of K :  3\n",
      "Point (6, 6) belongs to Negative class\n",
      "0\n"
     ]
    }
   ],
   "source": [
    "main()"
   ]
  },
  {
   "cell_type": "raw",
   "metadata": {},
   "source": [
    "#!/usr/bin/env python3\n",
    "# -*- coding: utf-8 -*-\n",
    "#built in classifier---just for reference\n",
    "\"\"\"\n",
    "#\n",
    "@author: VNKDJ5\n",
    "\"\"\"\n",
    "\n",
    "import sklearn\n",
    "import numpy as np\n",
    "import pandas as pd\n",
    "\n",
    "data = pd.read_csv('knngraph.csv')\n",
    "\n",
    "x = data.values[:,0:2]\n",
    "y = data.values[:,2]\n",
    "print(x)\n",
    "print(y)\n",
    "from sklearn.neighbors import KNeighborsClassifier\n",
    "neigh = KNeighborsClassifier(n_neighbors=3,weights=\"distance\")\n",
    "neigh.fit(x, y) \n",
    "print(neigh.predict([[5,3]]))\n",
    "print(neigh.predict([[6,6]]))\n",
    "print(neigh.predict([[6,2]]))"
   ]
  },
  {
   "cell_type": "code",
   "execution_count": null,
   "metadata": {},
   "outputs": [],
   "source": []
  }
 ],
 "metadata": {
  "kernelspec": {
   "display_name": "Python 3",
   "language": "python",
   "name": "python3"
  },
  "language_info": {
   "codemirror_mode": {
    "name": "ipython",
    "version": 3
   },
   "file_extension": ".py",
   "mimetype": "text/x-python",
   "name": "python",
   "nbconvert_exporter": "python",
   "pygments_lexer": "ipython3",
   "version": "3.7.0"
  }
 },
 "nbformat": 4,
 "nbformat_minor": 2
}
